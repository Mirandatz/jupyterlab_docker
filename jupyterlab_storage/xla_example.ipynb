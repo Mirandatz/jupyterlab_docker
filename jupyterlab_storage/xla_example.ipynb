{
 "cells": [
  {
   "cell_type": "code",
   "execution_count": null,
   "id": "f4e40ad2-96a6-41e1-a96e-8e583d88faed",
   "metadata": {},
   "outputs": [],
   "source": [
    "!nvidia-smi"
   ]
  },
  {
   "cell_type": "code",
   "execution_count": null,
   "id": "76470140-955d-4aa3-8a5d-199ab450917a",
   "metadata": {},
   "outputs": [],
   "source": [
    "def config_env(\n",
    "    unmute_tensorflow: bool, use_xla: bool, use_mixed_precision: bool\n",
    ") -> None:\n",
    "    import os\n",
    "    import tensorflow as tf\n",
    "\n",
    "    if unmute_tensorflow and \"TF_CPP_MIN_LOG_LEVEL\" in os.environ:\n",
    "        del os.environ[\"TF_CPP_MIN_LOG_LEVEL\"]\n",
    "\n",
    "    if use_xla:\n",
    "        tf.config.optimizer.set_jit(\"autoclustering\")\n",
    "    else:\n",
    "        os.environ.pop(\"TF_XLA_FLAGS\", None)\n",
    "\n",
    "    if use_mixed_precision:\n",
    "        tf.keras.mixed_precision.set_global_policy(\"mixed_float16\")\n",
    "\n",
    "config_env(unmute_tensorflow=False,\n",
    "           use_xla=True,\n",
    "           use_mixed_precision=True)"
   ]
  }
 ],
 "metadata": {
  "kernelspec": {
   "display_name": "Python 3 (ipykernel)",
   "language": "python",
   "name": "python3"
  },
  "language_info": {
   "codemirror_mode": {
    "name": "ipython",
    "version": 3
   },
   "file_extension": ".py",
   "mimetype": "text/x-python",
   "name": "python",
   "nbconvert_exporter": "python",
   "pygments_lexer": "ipython3",
   "version": "3.10.4"
  }
 },
 "nbformat": 4,
 "nbformat_minor": 5
}
